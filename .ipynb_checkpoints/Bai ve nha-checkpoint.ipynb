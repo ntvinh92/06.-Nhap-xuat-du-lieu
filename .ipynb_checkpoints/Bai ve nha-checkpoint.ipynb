{
 "cells": [
  {
   "cell_type": "code",
   "execution_count": null,
   "metadata": {},
   "outputs": [],
   "source": [
    "ten1 = input('Cho biet ten hoc vien 1: ')\n",
    "tuoi1 = int(input('Cho biet tuoi hoc vien 1: '))\n",
    "ten2 = input('Cho biet ten hoc vien 2: ')\n",
    "tuoi2 = int(input('Cho biet tuoi hoc vien 2: '))\n",
    "ten3 = input('Cho biet ten hoc vien 3: ')\n",
    "tuoi3 = int(input('Cho biet tuoi hoc vien 3: '))\n",
    "tuoitb = (tuoi1+tuoi2+tuoi3)/3\n",
    "print(f\"Ten hoc vien: {ten1}, {ten2}, {ten3}. Tuoi trung binh: {tuoitb:.2f}\")"
   ]
  },
  {
   "cell_type": "code",
   "execution_count": null,
   "metadata": {},
   "outputs": [],
   "source": [
    "# Bài 1: Nhập số lượng chuỗi cần lặp và chuỗi được lặp. In ra màn hình chuỗi lặp tương ứng theo từng dòng\n",
    "chuoi = input('Nhap chuoi bat ky: ')\n",
    "a = int(input('So lan lap: '))\n",
    "chuoi_a = (chuoi + '\\n') * a\n",
    "print(chuoi_a)"
   ]
  },
  {
   "cell_type": "code",
   "execution_count": null,
   "metadata": {},
   "outputs": [],
   "source": [
    "# Bài 2: Nhập số năm và xuất ra màn hình năm trước và năm sau của năm đó\n",
    "nam = int(input('Nhap nam bat ky: '))\n",
    "print(f'Nam truoc cua {nam} la', nam-1)\n",
    "print(f'Nam sau cua {nam} la', nam+1)"
   ]
  },
  {
   "cell_type": "code",
   "execution_count": null,
   "metadata": {},
   "outputs": [],
   "source": [
    "# Bài 3: Nhập vào 1 chuỗi, đảo ngược nguyên chuỗi đó và xuất ra màn hình\n",
    "chuoi = input('Nhap chuoi bat ky: ')\n",
    "print(chuoi[::-1])"
   ]
  },
  {
   "cell_type": "code",
   "execution_count": null,
   "metadata": {},
   "outputs": [],
   "source": [
    "# Bài 4: Nhập vào 1 chuỗi và nhập tiếp n là số lượng ký từ cần đảo ngược tính từ đầu chuỗi. \n",
    "# Xuất kết quả chuỗi mới bao gồm phần chuỗi đảo ngược + phần còn lại\n",
    "chuoi = input('Nhap chuoi bat ky: ')\n",
    "n = int(input('So ky tu muon cat tu chuoi: '))\n",
    "chuoi1 = chuoi[:n]\n",
    "chuoi2 = chuoi[n:]\n",
    "print(chuoi1[::-1] + chuoi2)"
   ]
  },
  {
   "cell_type": "code",
   "execution_count": null,
   "metadata": {},
   "outputs": [],
   "source": [
    "# Bài 5: Cho chuỗi định dạng như bên dưới\n",
    "# chuoi = \"1.HN 2.DN 3.HM\"\n",
    "# Yêu cầu người dùng nhập vào 1 con số từ 1 đến 3. Giả sử đầu vào luôn đúng từ 1 đến 3. Hãy xuất ra màn hình tương ứng giá trị sau số như sau:\n",
    "# - Nhập 1: xuất ra HN\n",
    "# - Nhập 2: xuất ra DN\n",
    "# - Nhập 3: xuất ra HM\n",
    "chuoi = '1.HN2.DN3.HM'\n",
    "a = int(input('Nhap so bat ky tu 1 den 3: '))\n",
    "index_end = a*4\n",
    "index_start = a*4-2\n",
    "chuoi_a = chuoi[index_start : index_end]\n",
    "print(chuoi_a)"
   ]
  },
  {
   "cell_type": "code",
   "execution_count": null,
   "metadata": {},
   "outputs": [],
   "source": [
    "# Nhập vào 1 số n, tính toán và xuất ra giá trị của biểu thức n/(nn*nnn). \n",
    "# Ví dụ: nhập vào 5 thì biểu thức là 5/(55*555) và kết quả thông báo là “Giá trị của biểu thức n*nn/nnn) là x” \n",
    "# với n và x là giá trị động, x được định dạng hiển thị ở dạng thập phân với 8 chữ số phần thập phân.\n",
    "n = int(input('Nhap 1 so bat ky:'))\n",
    "s = n/(10*n+n)/(100*n+10*n+n)\n",
    "print(f'Gia tri cua bieu thuoc n*nn/nnn la: {s:.8f}')"
   ]
  },
  {
   "cell_type": "code",
   "execution_count": null,
   "metadata": {},
   "outputs": [],
   "source": [
    "# Nhập vào 1 số. Kiểm tra giá trị chênh lệch giữa số đó với 100 và 200. \n",
    "# Nếu giá trị chênh không quá 10 thì xuất ra thông báo “Chenh khong qua 10” ngược lại dừng chương trình.\n",
    "n = int(input('Nhap 1 so bat ky:'))\n",
    "so_sanh100 = n>=90 and n<=110\n",
    "so_sanh200 = n>=190 and n<=210\n",
    "so_sanh = so_sanh100 or so_sanh200\n",
    "print(so_sanh and \"Chenh khong qua 10\")"
   ]
  },
  {
   "cell_type": "code",
   "execution_count": null,
   "metadata": {},
   "outputs": [],
   "source": [
    "# Tính toán khoảng cách giữa 2 điểm được lấy từ người dùng (x1, y1) và (x2, y2) trong mặt phẳng Oxy. \n",
    "# Xuất ra màn hình đẩy đủ thông báo cùng kết quả định dạng 8 chữ số phần thập phân.\n",
    "x1 = int(input('Nhap toa do x1: '))\n",
    "y1 = int(input('Nhap toa do y1: '))\n",
    "x2 = int(input('Nhap toa do x2: '))\n",
    "y2 = int(input('Nhap toa do y2: '))\n",
    "\n",
    "import math\n",
    "khoang_cach = math.sqrt((x2-x1)*(x2-x1) + (y2-y1)*(y2-y1))\n",
    "print(f'Khoang canh giua 2 diem (x1, y1) và (x2, y2) trong mặt phẳng Oxy la: {khoang_cach:.8f}')"
   ]
  },
  {
   "cell_type": "code",
   "execution_count": null,
   "metadata": {},
   "outputs": [],
   "source": [
    "# Nhập vào số giây. Tính toán và hiển thị ra màn hình số ngày, giờ, phút, giây tương ứng.\n",
    "# Định dạng xuất ra như sau: “a giây tương đương b ngày, c giờ, d phút và e giây”. Với a, b, c, d là động.\n",
    "a = int(input('Nhap so giay bat ky: ')) \n",
    "\n",
    "b = a//86400 # ngay\n",
    "c = (a-(b*86400))//3600 # gio\n",
    "d = (a-(86400*b + 3600*c))//60 # phut\n",
    "e = a-(86400*b + 3600*c + 60*d) # giay\n",
    "\n",
    "print(f'{a} giay tuong duong {b} ngay, {c} gio, {d} phut va {e} giay')"
   ]
  },
  {
   "cell_type": "code",
   "execution_count": null,
   "metadata": {},
   "outputs": [],
   "source": [
    "# Nhập vào 3 số nguyên, sắp xếp tăng dần và hiển thị ra màn hình thứ tự 3 số sau khi đã sắp xếp. \n",
    "# Gợi ý: trong python có hàm min và max để tìm số lớn nhất và nhỏ nhất. Không dùng hàm sort.\n",
    "a = int(input('Nhap so nguyen thu 1: '))\n",
    "b = int(input('Nhap so nguyen thu 2: '))\n",
    "c = int(input('Nhap so nguyen thu 3: '))\n",
    "\n",
    "t1 = min(a,b,c)\n",
    "t3 = max(a,b,c)\n",
    "t2 = (a + b + c) - t1 - t3\n",
    "print(f'Thu tu 3 so nguyen: {t1}, {t2}, {t3}')"
   ]
  },
  {
   "cell_type": "code",
   "execution_count": null,
   "metadata": {},
   "outputs": [],
   "source": [
    "# Nhập vào chuỗi bất kỳ. Thay thế các ký tự trong chuỗi thành dấu *. \n",
    "# Phải giữ lại 5 ký tự cuối. Xuất ra màn hình chuỗi mới. Nếu số ký tự nhập vào nhỏ hơn hoặc bằng 5 thì giữ nguyên chuỗi\n",
    "chuoi = input('Nhap chuoi bat ky: ')\n",
    "chuoi1 = chuoi[:-5]\n",
    "chuoi2 = chuoi[-5:]\n",
    "print('*'*len(chuoi1) + chuoi2)"
   ]
  },
  {
   "cell_type": "code",
   "execution_count": null,
   "metadata": {},
   "outputs": [],
   "source": [
    "# Nhập vào 3 số nguyên dương. \n",
    "# Kiểm tra xem chữ số cuối của tổng hai số thứ nhất và thứ ba có bằng với chữ số cuối của số thứ hai không? \n",
    "# Xuất ra thông báo: “So 1: x. So 2: y. So 3: z. Ket qua: co” nếu có bằng ngược lại dừng\n",
    "so1 = int(input('Nhap so nguyen duong thu 1: '))\n",
    "so2 = int(input('Nhap so nguyen duong thu 2: '))\n",
    "so3 = int(input('Nhap so nguyen duong thu 3: '))\n",
    "# print(str(so1 + so3)[-1])\n",
    "# print(str(so2)[-1])\n",
    "so_sanh = (str(so1 + so3)[-1] == str(so2)[-1] and \"Co\")\n",
    "so_sanh = (so_sanh or '')\n",
    "print(f'So 1: {so1}. So 2: {so2}. So 3: {so3}. Ket qua: {so_sanh}')"
   ]
  },
  {
   "cell_type": "code",
   "execution_count": null,
   "metadata": {},
   "outputs": [],
   "source": [
    "# Nhập vào 1 chuỗi. Tìm ký tự nằm giữa chuỗi. \n",
    "# Nếu có xuất ra thông báo “Ký tự nằm giữa là x” với x là ký tự nằm giữa tìm được. \n",
    "# Ngược lại xuất ra “Không có ký tự nằm giữa”.\"\n",
    "chuoi = input('Nhap 1 chuoi bat ky: ')\n",
    "\n",
    "# Kiem tra do dai chuoi la chan hay le\n",
    "check_even = len(chuoi)%2 == 0\n",
    "\n",
    "# Neu la chan (True) ==> Khong co ky tu nam giua; Neu la le (False) ==> mid_index = len(chuoi)/2 - 0.5\n",
    "print((check_even and \"Khong co ky tu nam giua\") or f'Ky tu nam giua la {chuoi[int(len(chuoi)/2 - 0.5)]}')"
   ]
  }
 ],
 "metadata": {
  "kernelspec": {
   "display_name": "Python 3",
   "language": "python",
   "name": "python3"
  },
  "language_info": {
   "codemirror_mode": {
    "name": "ipython",
    "version": 3
   },
   "file_extension": ".py",
   "mimetype": "text/x-python",
   "name": "python",
   "nbconvert_exporter": "python",
   "pygments_lexer": "ipython3",
   "version": "3.8.5"
  }
 },
 "nbformat": 4,
 "nbformat_minor": 4
}
